{
  "nbformat": 4,
  "nbformat_minor": 0,
  "metadata": {
    "colab": {
      "provenance": [],
      "gpuType": "T4"
    },
    "kernelspec": {
      "name": "python3",
      "display_name": "Python 3"
    },
    "language_info": {
      "name": "python"
    }
  },
  "cells": [
    {
      "cell_type": "markdown",
      "source": [
        "## Mounting Google Drive\n",
        "\n",
        "To access files stored in Google Drive, we need to mount it to the Colab environment. This allows us to read, write, and manipulate files seamlessly."
      ],
      "metadata": {
        "id": "Mw-r9M5ZhrLU"
      }
    },
    {
      "cell_type": "code",
      "source": [
        "# Importing the necessary module from the Google Colab library to mount Google Drive.\n",
        "from google.colab import drive\n",
        "\n",
        "# Mounting the Google Drive to the Colab environment.\n",
        "drive.mount('/content/drive')"
      ],
      "metadata": {
        "id": "P1xX79_NhpMo"
      },
      "execution_count": null,
      "outputs": []
    },
    {
      "cell_type": "markdown",
      "source": [
        "## Extracting Dataset Zip File\n",
        "\n",
        "In this section, we'll extract a dataset stored in a zip file located in our Google Drive. This dataset is essential for our project, and we'll use it for training, testing, or other purposes.\n"
      ],
      "metadata": {
        "id": "0ZqVhAtZhpoo"
      }
    },
    {
      "cell_type": "code",
      "source": [
        "import os\n",
        "\n",
        "# Importing the 'zipfile' module to work with zip files.\n",
        "import zipfile\n",
        "\n",
        "# Specifying the path of the zip file in Google Drive and the directory to extract the contents.\n",
        "zip_file_path = '/content/drive/My Drive/dataset.zip'\n",
        "extraction_path = '/content/dataset'\n",
        "\n",
        "# Extracting the contents of the zip file to the specified directory.\n",
        "with zipfile.ZipFile(zip_file_path, 'r') as zip_ref:\n",
        "    zip_ref.extractall(extraction_path)"
      ],
      "metadata": {
        "id": "skx6sz0dQwyt"
      },
      "execution_count": null,
      "outputs": []
    },
    {
      "cell_type": "markdown",
      "source": [
        "## Importing Necessary Libraries\n",
        "\n",
        "In this section, we'll import all the required libraries for our project. These libraries include tools for data manipulation, visualization, machine learning model creation, and more.\n"
      ],
      "metadata": {
        "id": "zIdMl0TJiPNr"
      }
    },
    {
      "cell_type": "code",
      "source": [
        "# Importing 'numpy' library for numerical computations.\n",
        "import numpy as np\n",
        "\n",
        "# Importing 'pandas' library for data manipulation and analysis.\n",
        "import pandas as pd\n",
        "\n",
        "# Importing TensorFlow library for building and training deep learning models.\n",
        "import tensorflow as tf\n",
        "\n",
        "# Importing the 'ImageDataGenerator' class from Keras for data augmentation.\n",
        "from keras.preprocessing.image import ImageDataGenerator\n",
        "\n",
        "# Importing data visualization libraries.\n",
        "import seaborn as sns\n",
        "import plotly.express as px\n",
        "import matplotlib.pyplot as plt\n",
        "\n",
        "# Importing necessary modules from Keras for building the model.\n",
        "from keras.models import Sequential, load_model\n",
        "from keras.layers import Dense, GlobalAvgPool2D, Dropout"
      ],
      "metadata": {
        "id": "9eBpnUFoQw0_"
      },
      "execution_count": null,
      "outputs": []
    },
    {
      "cell_type": "markdown",
      "source": [
        "## Image Data Generator\n",
        "\n",
        "Here, we define an `ImageDataGenerator` object named `gen`. This object is responsible for generating batches of image data with real-time data augmentation. The parameters specified include:\n",
        "\n",
        "- `rescale`: Rescales the pixel values of the images to the range [0, 1] by dividing each pixel value by 255.\n",
        "- `validation_split`: Splits the data into training and validation sets, with 80% of the data used for training and 20% for validation.\n"
      ],
      "metadata": {
        "id": "qFmTssNSiZm0"
      }
    },
    {
      "cell_type": "code",
      "source": [
        "# Image Data Generator for data preprocessing and augmentation.\n",
        "gen = ImageDataGenerator(\n",
        "    rescale=1./255,            # Rescaling pixel values to the range [0, 1].\n",
        "    validation_split=0.2       # Splitting the data into training and validation sets.\n",
        ")"
      ],
      "metadata": {
        "id": "QvP7kA7IQw3H"
      },
      "execution_count": null,
      "outputs": []
    },
    {
      "cell_type": "code",
      "source": [
        "rootpath = '/content/dataset/dataset' # defining the rootpath"
      ],
      "metadata": {
        "id": "gbvozcN1Qw5L"
      },
      "execution_count": null,
      "outputs": []
    },
    {
      "cell_type": "markdown",
      "source": [
        "## Flow From Directory\n",
        "\n",
        "The `flow_from_directory` method generates batches of augmented data from image files in a directory. Here, we create a training dataset named `train_ds` using the following parameters:\n",
        "\n",
        "- `rootpath`: The directory path containing the image files.\n",
        "- `target_size`: Resizes the images to the specified dimensions of (875, 656) pixels.\n",
        "- `subset`: Specifies that this dataset is a subset of the data, in this case, the training set.\n",
        "- `batch_size`: The number of samples in each batch.\n",
        "- `shuffle`: Shuffles the data randomly.\n",
        "- `class_mode`: Defines the type of labels, which is set to 'binary' indicating binary classification.\n"
      ],
      "metadata": {
        "id": "Ad_UtJ2DjQRu"
      }
    },
    {
      "cell_type": "code",
      "source": [
        "# Generating batches of augmented data from image files in the directory for training.\n",
        "train_ds = gen.flow_from_directory(\n",
        "    rootpath,                     # Directory path containing the image files.\n",
        "    target_size=(875, 656),       # Resizing images to (875, 656) pixels.\n",
        "    subset='training',            # Specifying that this is the training subset.\n",
        "    batch_size=32,                # Number of samples in each batch.\n",
        "    shuffle=True,                 # Shuffling the data randomly.\n",
        "    class_mode='binary'           # Labels are binary (binary classification).\n",
        ")"
      ],
      "metadata": {
        "colab": {
          "base_uri": "https://localhost:8080/"
        },
        "id": "xrlUguHTQw7Z",
        "outputId": "a2bd129b-07f0-48b1-ba65-9521090a7409"
      },
      "execution_count": null,
      "outputs": [
        {
          "output_type": "stream",
          "name": "stdout",
          "text": [
            "Found 2401 images belonging to 2 classes.\n"
          ]
        }
      ]
    },
    {
      "cell_type": "markdown",
      "source": [
        "## Flow From Directory\n",
        "\n",
        "Similar to the training dataset, the `flow_from_directory` method is used to generate batches of augmented data from image files in a directory for the validation dataset. Here, we create a validation dataset named `valid_ds` with the following parameters:\n",
        "\n",
        "- `rootpath`: The directory path containing the image files.\n",
        "- `target_size`: Resizes the images to the specified dimensions of (875, 656) pixels.\n",
        "- `subset`: Specifies that this dataset is a subset of the data, in this case, the validation set.\n",
        "- `batch_size`: The number of samples in each batch.\n",
        "- `shuffle`: Shuffles the data randomly.\n",
        "- `class_mode`: Defines the type of labels, which is set to 'binary' indicating binary classification.\n"
      ],
      "metadata": {
        "id": "nUKlRWhpjUDD"
      }
    },
    {
      "cell_type": "code",
      "source": [
        "# Generating batches of augmented data from image files in the directory for validation.\n",
        "valid_ds = gen.flow_from_directory(\n",
        "    rootpath,                     # Directory path containing the image files.\n",
        "    target_size=(875, 656),       # Resizing images to (875, 656) pixels.\n",
        "    subset='validation',          # Specifying that this is the validation subset.\n",
        "    batch_size=32,                # Number of samples in each batch.\n",
        "    shuffle=True,                 # Shuffling the data randomly.\n",
        "    class_mode='binary'           # Labels are binary (binary classification).\n",
        ")"
      ],
      "metadata": {
        "colab": {
          "base_uri": "https://localhost:8080/"
        },
        "id": "ZIspb-xYQw9m",
        "outputId": "e61ea7f3-035c-4a03-c021-12a24e47c31e"
      },
      "execution_count": null,
      "outputs": [
        {
          "output_type": "stream",
          "name": "stdout",
          "text": [
            "Found 599 images belonging to 2 classes.\n"
          ]
        }
      ]
    },
    {
      "cell_type": "markdown",
      "source": [
        "## Get Class Names\n",
        "\n",
        "To retrieve the class names from the dataset directory, we use the `os.listdir` function to list all the directories present in the root path and select the first two directories as class names. These class names represent the categories or labels of the images in the dataset.\n"
      ],
      "metadata": {
        "id": "b8LNomNKjwBo"
      }
    },
    {
      "cell_type": "code",
      "source": [
        "# Retrieve class names from the dataset directory\n",
        "class_names = os.listdir(rootpath)[:2]\n",
        "class_names"
      ],
      "metadata": {
        "colab": {
          "base_uri": "https://localhost:8080/"
        },
        "id": "XjtvBnvEQxA9",
        "outputId": "75c30a87-b5f6-4feb-a0d4-400c6368c6f2"
      },
      "execution_count": null,
      "outputs": [
        {
          "output_type": "execute_result",
          "data": {
            "text/plain": [
              "['signal', 'noise']"
            ]
          },
          "metadata": {},
          "execution_count": 8
        }
      ]
    },
    {
      "cell_type": "markdown",
      "source": [
        "## Class Distribution Visualization\n",
        "\n",
        "To visualize the distribution of classes in the dataset, we first calculate the number of images in each class using a list comprehension. Then, we create a pie chart using Plotly Express to display the distribution of classes.\n"
      ],
      "metadata": {
        "id": "x3WWIo5Ej-6D"
      }
    },
    {
      "cell_type": "code",
      "source": [
        "# Calculate the number of images in each class\n",
        "class_dis = [len(os.listdir(rootpath + \"/\" + name)) for name in class_names]\n",
        "\n",
        "# Plot the class distribution\n",
        "fig = px.pie(names=class_names, values=class_dis, title=\"Class Distribution\")\n",
        "fig.update_layout({'title':{'x':0.5}})\n",
        "fig.show()"
      ],
      "metadata": {
        "colab": {
          "base_uri": "https://localhost:8080/",
          "height": 542
        },
        "id": "yDyVE1ErRBJs",
        "outputId": "3fc6375c-c8c5-4e04-d961-f1547405d37f"
      },
      "execution_count": null,
      "outputs": [
        {
          "output_type": "display_data",
          "data": {
            "text/html": [
              "<html>\n",
              "<head><meta charset=\"utf-8\" /></head>\n",
              "<body>\n",
              "    <div>            <script src=\"https://cdnjs.cloudflare.com/ajax/libs/mathjax/2.7.5/MathJax.js?config=TeX-AMS-MML_SVG\"></script><script type=\"text/javascript\">if (window.MathJax && window.MathJax.Hub && window.MathJax.Hub.Config) {window.MathJax.Hub.Config({SVG: {font: \"STIX-Web\"}});}</script>                <script type=\"text/javascript\">window.PlotlyConfig = {MathJaxConfig: 'local'};</script>\n",
              "        <script charset=\"utf-8\" src=\"https://cdn.plot.ly/plotly-2.24.1.min.js\"></script>                <div id=\"989bce1e-aedf-45e9-a9ee-bfa07c0d4a5a\" class=\"plotly-graph-div\" style=\"height:525px; width:100%;\"></div>            <script type=\"text/javascript\">                                    window.PLOTLYENV=window.PLOTLYENV || {};                                    if (document.getElementById(\"989bce1e-aedf-45e9-a9ee-bfa07c0d4a5a\")) {                    Plotly.newPlot(                        \"989bce1e-aedf-45e9-a9ee-bfa07c0d4a5a\",                        [{\"domain\":{\"x\":[0.0,1.0],\"y\":[0.0,1.0]},\"hovertemplate\":\"label=%{label}\\u003cbr\\u003evalue=%{value}\\u003cextra\\u003e\\u003c\\u002fextra\\u003e\",\"labels\":[\"signal\",\"noise\"],\"legendgroup\":\"\",\"name\":\"\",\"showlegend\":true,\"values\":[1684,1316],\"type\":\"pie\"}],                        {\"template\":{\"data\":{\"histogram2dcontour\":[{\"type\":\"histogram2dcontour\",\"colorbar\":{\"outlinewidth\":0,\"ticks\":\"\"},\"colorscale\":[[0.0,\"#0d0887\"],[0.1111111111111111,\"#46039f\"],[0.2222222222222222,\"#7201a8\"],[0.3333333333333333,\"#9c179e\"],[0.4444444444444444,\"#bd3786\"],[0.5555555555555556,\"#d8576b\"],[0.6666666666666666,\"#ed7953\"],[0.7777777777777778,\"#fb9f3a\"],[0.8888888888888888,\"#fdca26\"],[1.0,\"#f0f921\"]]}],\"choropleth\":[{\"type\":\"choropleth\",\"colorbar\":{\"outlinewidth\":0,\"ticks\":\"\"}}],\"histogram2d\":[{\"type\":\"histogram2d\",\"colorbar\":{\"outlinewidth\":0,\"ticks\":\"\"},\"colorscale\":[[0.0,\"#0d0887\"],[0.1111111111111111,\"#46039f\"],[0.2222222222222222,\"#7201a8\"],[0.3333333333333333,\"#9c179e\"],[0.4444444444444444,\"#bd3786\"],[0.5555555555555556,\"#d8576b\"],[0.6666666666666666,\"#ed7953\"],[0.7777777777777778,\"#fb9f3a\"],[0.8888888888888888,\"#fdca26\"],[1.0,\"#f0f921\"]]}],\"heatmap\":[{\"type\":\"heatmap\",\"colorbar\":{\"outlinewidth\":0,\"ticks\":\"\"},\"colorscale\":[[0.0,\"#0d0887\"],[0.1111111111111111,\"#46039f\"],[0.2222222222222222,\"#7201a8\"],[0.3333333333333333,\"#9c179e\"],[0.4444444444444444,\"#bd3786\"],[0.5555555555555556,\"#d8576b\"],[0.6666666666666666,\"#ed7953\"],[0.7777777777777778,\"#fb9f3a\"],[0.8888888888888888,\"#fdca26\"],[1.0,\"#f0f921\"]]}],\"heatmapgl\":[{\"type\":\"heatmapgl\",\"colorbar\":{\"outlinewidth\":0,\"ticks\":\"\"},\"colorscale\":[[0.0,\"#0d0887\"],[0.1111111111111111,\"#46039f\"],[0.2222222222222222,\"#7201a8\"],[0.3333333333333333,\"#9c179e\"],[0.4444444444444444,\"#bd3786\"],[0.5555555555555556,\"#d8576b\"],[0.6666666666666666,\"#ed7953\"],[0.7777777777777778,\"#fb9f3a\"],[0.8888888888888888,\"#fdca26\"],[1.0,\"#f0f921\"]]}],\"contourcarpet\":[{\"type\":\"contourcarpet\",\"colorbar\":{\"outlinewidth\":0,\"ticks\":\"\"}}],\"contour\":[{\"type\":\"contour\",\"colorbar\":{\"outlinewidth\":0,\"ticks\":\"\"},\"colorscale\":[[0.0,\"#0d0887\"],[0.1111111111111111,\"#46039f\"],[0.2222222222222222,\"#7201a8\"],[0.3333333333333333,\"#9c179e\"],[0.4444444444444444,\"#bd3786\"],[0.5555555555555556,\"#d8576b\"],[0.6666666666666666,\"#ed7953\"],[0.7777777777777778,\"#fb9f3a\"],[0.8888888888888888,\"#fdca26\"],[1.0,\"#f0f921\"]]}],\"surface\":[{\"type\":\"surface\",\"colorbar\":{\"outlinewidth\":0,\"ticks\":\"\"},\"colorscale\":[[0.0,\"#0d0887\"],[0.1111111111111111,\"#46039f\"],[0.2222222222222222,\"#7201a8\"],[0.3333333333333333,\"#9c179e\"],[0.4444444444444444,\"#bd3786\"],[0.5555555555555556,\"#d8576b\"],[0.6666666666666666,\"#ed7953\"],[0.7777777777777778,\"#fb9f3a\"],[0.8888888888888888,\"#fdca26\"],[1.0,\"#f0f921\"]]}],\"mesh3d\":[{\"type\":\"mesh3d\",\"colorbar\":{\"outlinewidth\":0,\"ticks\":\"\"}}],\"scatter\":[{\"fillpattern\":{\"fillmode\":\"overlay\",\"size\":10,\"solidity\":0.2},\"type\":\"scatter\"}],\"parcoords\":[{\"type\":\"parcoords\",\"line\":{\"colorbar\":{\"outlinewidth\":0,\"ticks\":\"\"}}}],\"scatterpolargl\":[{\"type\":\"scatterpolargl\",\"marker\":{\"colorbar\":{\"outlinewidth\":0,\"ticks\":\"\"}}}],\"bar\":[{\"error_x\":{\"color\":\"#2a3f5f\"},\"error_y\":{\"color\":\"#2a3f5f\"},\"marker\":{\"line\":{\"color\":\"#E5ECF6\",\"width\":0.5},\"pattern\":{\"fillmode\":\"overlay\",\"size\":10,\"solidity\":0.2}},\"type\":\"bar\"}],\"scattergeo\":[{\"type\":\"scattergeo\",\"marker\":{\"colorbar\":{\"outlinewidth\":0,\"ticks\":\"\"}}}],\"scatterpolar\":[{\"type\":\"scatterpolar\",\"marker\":{\"colorbar\":{\"outlinewidth\":0,\"ticks\":\"\"}}}],\"histogram\":[{\"marker\":{\"pattern\":{\"fillmode\":\"overlay\",\"size\":10,\"solidity\":0.2}},\"type\":\"histogram\"}],\"scattergl\":[{\"type\":\"scattergl\",\"marker\":{\"colorbar\":{\"outlinewidth\":0,\"ticks\":\"\"}}}],\"scatter3d\":[{\"type\":\"scatter3d\",\"line\":{\"colorbar\":{\"outlinewidth\":0,\"ticks\":\"\"}},\"marker\":{\"colorbar\":{\"outlinewidth\":0,\"ticks\":\"\"}}}],\"scattermapbox\":[{\"type\":\"scattermapbox\",\"marker\":{\"colorbar\":{\"outlinewidth\":0,\"ticks\":\"\"}}}],\"scatterternary\":[{\"type\":\"scatterternary\",\"marker\":{\"colorbar\":{\"outlinewidth\":0,\"ticks\":\"\"}}}],\"scattercarpet\":[{\"type\":\"scattercarpet\",\"marker\":{\"colorbar\":{\"outlinewidth\":0,\"ticks\":\"\"}}}],\"carpet\":[{\"aaxis\":{\"endlinecolor\":\"#2a3f5f\",\"gridcolor\":\"white\",\"linecolor\":\"white\",\"minorgridcolor\":\"white\",\"startlinecolor\":\"#2a3f5f\"},\"baxis\":{\"endlinecolor\":\"#2a3f5f\",\"gridcolor\":\"white\",\"linecolor\":\"white\",\"minorgridcolor\":\"white\",\"startlinecolor\":\"#2a3f5f\"},\"type\":\"carpet\"}],\"table\":[{\"cells\":{\"fill\":{\"color\":\"#EBF0F8\"},\"line\":{\"color\":\"white\"}},\"header\":{\"fill\":{\"color\":\"#C8D4E3\"},\"line\":{\"color\":\"white\"}},\"type\":\"table\"}],\"barpolar\":[{\"marker\":{\"line\":{\"color\":\"#E5ECF6\",\"width\":0.5},\"pattern\":{\"fillmode\":\"overlay\",\"size\":10,\"solidity\":0.2}},\"type\":\"barpolar\"}],\"pie\":[{\"automargin\":true,\"type\":\"pie\"}]},\"layout\":{\"autotypenumbers\":\"strict\",\"colorway\":[\"#636efa\",\"#EF553B\",\"#00cc96\",\"#ab63fa\",\"#FFA15A\",\"#19d3f3\",\"#FF6692\",\"#B6E880\",\"#FF97FF\",\"#FECB52\"],\"font\":{\"color\":\"#2a3f5f\"},\"hovermode\":\"closest\",\"hoverlabel\":{\"align\":\"left\"},\"paper_bgcolor\":\"white\",\"plot_bgcolor\":\"#E5ECF6\",\"polar\":{\"bgcolor\":\"#E5ECF6\",\"angularaxis\":{\"gridcolor\":\"white\",\"linecolor\":\"white\",\"ticks\":\"\"},\"radialaxis\":{\"gridcolor\":\"white\",\"linecolor\":\"white\",\"ticks\":\"\"}},\"ternary\":{\"bgcolor\":\"#E5ECF6\",\"aaxis\":{\"gridcolor\":\"white\",\"linecolor\":\"white\",\"ticks\":\"\"},\"baxis\":{\"gridcolor\":\"white\",\"linecolor\":\"white\",\"ticks\":\"\"},\"caxis\":{\"gridcolor\":\"white\",\"linecolor\":\"white\",\"ticks\":\"\"}},\"coloraxis\":{\"colorbar\":{\"outlinewidth\":0,\"ticks\":\"\"}},\"colorscale\":{\"sequential\":[[0.0,\"#0d0887\"],[0.1111111111111111,\"#46039f\"],[0.2222222222222222,\"#7201a8\"],[0.3333333333333333,\"#9c179e\"],[0.4444444444444444,\"#bd3786\"],[0.5555555555555556,\"#d8576b\"],[0.6666666666666666,\"#ed7953\"],[0.7777777777777778,\"#fb9f3a\"],[0.8888888888888888,\"#fdca26\"],[1.0,\"#f0f921\"]],\"sequentialminus\":[[0.0,\"#0d0887\"],[0.1111111111111111,\"#46039f\"],[0.2222222222222222,\"#7201a8\"],[0.3333333333333333,\"#9c179e\"],[0.4444444444444444,\"#bd3786\"],[0.5555555555555556,\"#d8576b\"],[0.6666666666666666,\"#ed7953\"],[0.7777777777777778,\"#fb9f3a\"],[0.8888888888888888,\"#fdca26\"],[1.0,\"#f0f921\"]],\"diverging\":[[0,\"#8e0152\"],[0.1,\"#c51b7d\"],[0.2,\"#de77ae\"],[0.3,\"#f1b6da\"],[0.4,\"#fde0ef\"],[0.5,\"#f7f7f7\"],[0.6,\"#e6f5d0\"],[0.7,\"#b8e186\"],[0.8,\"#7fbc41\"],[0.9,\"#4d9221\"],[1,\"#276419\"]]},\"xaxis\":{\"gridcolor\":\"white\",\"linecolor\":\"white\",\"ticks\":\"\",\"title\":{\"standoff\":15},\"zerolinecolor\":\"white\",\"automargin\":true,\"zerolinewidth\":2},\"yaxis\":{\"gridcolor\":\"white\",\"linecolor\":\"white\",\"ticks\":\"\",\"title\":{\"standoff\":15},\"zerolinecolor\":\"white\",\"automargin\":true,\"zerolinewidth\":2},\"scene\":{\"xaxis\":{\"backgroundcolor\":\"#E5ECF6\",\"gridcolor\":\"white\",\"linecolor\":\"white\",\"showbackground\":true,\"ticks\":\"\",\"zerolinecolor\":\"white\",\"gridwidth\":2},\"yaxis\":{\"backgroundcolor\":\"#E5ECF6\",\"gridcolor\":\"white\",\"linecolor\":\"white\",\"showbackground\":true,\"ticks\":\"\",\"zerolinecolor\":\"white\",\"gridwidth\":2},\"zaxis\":{\"backgroundcolor\":\"#E5ECF6\",\"gridcolor\":\"white\",\"linecolor\":\"white\",\"showbackground\":true,\"ticks\":\"\",\"zerolinecolor\":\"white\",\"gridwidth\":2}},\"shapedefaults\":{\"line\":{\"color\":\"#2a3f5f\"}},\"annotationdefaults\":{\"arrowcolor\":\"#2a3f5f\",\"arrowhead\":0,\"arrowwidth\":1},\"geo\":{\"bgcolor\":\"white\",\"landcolor\":\"#E5ECF6\",\"subunitcolor\":\"white\",\"showland\":true,\"showlakes\":true,\"lakecolor\":\"white\"},\"title\":{\"x\":0.05},\"mapbox\":{\"style\":\"light\"}}},\"legend\":{\"tracegroupgap\":0},\"title\":{\"text\":\"Class Distribution\",\"x\":0.5}},                        {\"responsive\": true}                    ).then(function(){\n",
              "                            \n",
              "var gd = document.getElementById('989bce1e-aedf-45e9-a9ee-bfa07c0d4a5a');\n",
              "var x = new MutationObserver(function (mutations, observer) {{\n",
              "        var display = window.getComputedStyle(gd).display;\n",
              "        if (!display || display === 'none') {{\n",
              "            console.log([gd, 'removed!']);\n",
              "            Plotly.purge(gd);\n",
              "            observer.disconnect();\n",
              "        }}\n",
              "}});\n",
              "\n",
              "// Listen for the removal of the full notebook cells\n",
              "var notebookContainer = gd.closest('#notebook-container');\n",
              "if (notebookContainer) {{\n",
              "    x.observe(notebookContainer, {childList: true});\n",
              "}}\n",
              "\n",
              "// Listen for the clearing of the current output cell\n",
              "var outputEl = gd.closest('.output');\n",
              "if (outputEl) {{\n",
              "    x.observe(outputEl, {childList: true});\n",
              "}}\n",
              "\n",
              "                        })                };                            </script>        </div>\n",
              "</body>\n",
              "</html>"
            ]
          },
          "metadata": {}
        }
      ]
    },
    {
      "cell_type": "markdown",
      "source": [
        "## Model Architecture Definition\n",
        "\n",
        "The following code defines the architecture of the convolutional neural network (CNN) model using TensorFlow and Keras. Below are the key features of the model:\n",
        "\n",
        "- Utilizes odd-sized filters (3x3) for convolutional layers.\n",
        "- Applies batch normalization before dropout and after activation to improve convergence and speed up training.\n",
        "- Initiates with smaller filter sizes and gradually increases filter width to capture more complex features.\n",
        "- Reduces the number of channels initially and gradually increases them in subsequent layers.\n",
        "- Adds padding='same' parameter to convolutional layers to preserve border information.\n",
        "- Implements multiple convolutional layers followed by max-pooling layers to downsample the feature maps.\n",
        "- Incorporates a flattening layer to convert the 2D feature maps into a 1D vector.\n",
        "- Includes dropout regularization with a dropout rate of 0.4 to prevent overfitting.\n",
        "- Concludes with a dense layer with a sigmoid activation function to output binary classification results.\n"
      ],
      "metadata": {
        "id": "LoWIyk5zkN5S"
      }
    },
    {
      "cell_type": "code",
      "source": [
        "from tensorflow import keras\n",
        "from tensorflow.keras import layers\n",
        "\n",
        "# Define the model architecture\n",
        "model = keras.Sequential([\n",
        "    layers.Conv2D(32, kernel_size=(3, 3), activation=\"relu\", input_shape=(875, 656, 3), padding='same'),\n",
        "    layers.MaxPooling2D(pool_size=(2, 2)),\n",
        "    layers.BatchNormalization(),\n",
        "    layers.Conv2D(64, kernel_size=(3, 3), activation=\"relu\", padding='same'),\n",
        "    layers.MaxPooling2D(pool_size=(2, 2)),\n",
        "    layers.BatchNormalization(),\n",
        "    layers.Conv2D(64, kernel_size=(3, 3), activation=\"relu\", padding='same'),\n",
        "    layers.MaxPooling2D(pool_size=(2, 2)),\n",
        "    layers.BatchNormalization(),\n",
        "    layers.Conv2D(128, kernel_size=(3, 3), activation=\"relu\", padding='same'),\n",
        "    layers.MaxPooling2D(pool_size=(2, 2)),\n",
        "    layers.BatchNormalization(),\n",
        "    layers.Conv2D(128, kernel_size=(3, 3), activation=\"relu\", padding='same'),\n",
        "    layers.MaxPooling2D(pool_size=(2, 2)),\n",
        "    layers.BatchNormalization(),\n",
        "    layers.Flatten(),\n",
        "    layers.Dense(512),\n",
        "    layers.Dropout(0.4),\n",
        "    layers.Dense(1, activation=\"sigmoid\"),\n",
        "])\n",
        "\n",
        "# Display the model summary\n",
        "model.summary()"
      ],
      "metadata": {
        "colab": {
          "base_uri": "https://localhost:8080/"
        },
        "id": "O7btdqhKRBL6",
        "outputId": "ae1863d6-ad76-46b2-8316-6184adeb0a6d"
      },
      "execution_count": null,
      "outputs": [
        {
          "output_type": "stream",
          "name": "stdout",
          "text": [
            "Model: \"sequential_1\"\n",
            "_________________________________________________________________\n",
            " Layer (type)                Output Shape              Param #   \n",
            "=================================================================\n",
            " conv2d_5 (Conv2D)           (None, 875, 656, 32)      896       \n",
            "                                                                 \n",
            " max_pooling2d_5 (MaxPoolin  (None, 437, 328, 32)      0         \n",
            " g2D)                                                            \n",
            "                                                                 \n",
            " batch_normalization_5 (Bat  (None, 437, 328, 32)      128       \n",
            " chNormalization)                                                \n",
            "                                                                 \n",
            " conv2d_6 (Conv2D)           (None, 437, 328, 64)      18496     \n",
            "                                                                 \n",
            " max_pooling2d_6 (MaxPoolin  (None, 218, 164, 64)      0         \n",
            " g2D)                                                            \n",
            "                                                                 \n",
            " batch_normalization_6 (Bat  (None, 218, 164, 64)      256       \n",
            " chNormalization)                                                \n",
            "                                                                 \n",
            " conv2d_7 (Conv2D)           (None, 218, 164, 64)      36928     \n",
            "                                                                 \n",
            " max_pooling2d_7 (MaxPoolin  (None, 109, 82, 64)       0         \n",
            " g2D)                                                            \n",
            "                                                                 \n",
            " batch_normalization_7 (Bat  (None, 109, 82, 64)       256       \n",
            " chNormalization)                                                \n",
            "                                                                 \n",
            " conv2d_8 (Conv2D)           (None, 109, 82, 128)      73856     \n",
            "                                                                 \n",
            " max_pooling2d_8 (MaxPoolin  (None, 54, 41, 128)       0         \n",
            " g2D)                                                            \n",
            "                                                                 \n",
            " batch_normalization_8 (Bat  (None, 54, 41, 128)       512       \n",
            " chNormalization)                                                \n",
            "                                                                 \n",
            " conv2d_9 (Conv2D)           (None, 54, 41, 128)       147584    \n",
            "                                                                 \n",
            " max_pooling2d_9 (MaxPoolin  (None, 27, 20, 128)       0         \n",
            " g2D)                                                            \n",
            "                                                                 \n",
            " batch_normalization_9 (Bat  (None, 27, 20, 128)       512       \n",
            " chNormalization)                                                \n",
            "                                                                 \n",
            " flatten_1 (Flatten)         (None, 69120)             0         \n",
            "                                                                 \n",
            " dense_2 (Dense)             (None, 512)               35389952  \n",
            "                                                                 \n",
            " dropout_1 (Dropout)         (None, 512)               0         \n",
            "                                                                 \n",
            " dense_3 (Dense)             (None, 1)                 513       \n",
            "                                                                 \n",
            "=================================================================\n",
            "Total params: 35669889 (136.07 MB)\n",
            "Trainable params: 35669057 (136.07 MB)\n",
            "Non-trainable params: 832 (3.25 KB)\n",
            "_________________________________________________________________\n"
          ]
        }
      ]
    },
    {
      "cell_type": "markdown",
      "source": [
        "## Model Training\n",
        "\n",
        "The code below compiles and trains the defined CNN model using the specified parameters. Here's a breakdown of the process:\n",
        "\n",
        "- **Epochs**: The number of epochs is set to 12, indicating the number of passes through the entire training dataset during training.\n",
        "- **Loss Function**: Utilizes binary cross-entropy loss, suitable for binary classification tasks.\n",
        "- **Optimizer**: Employs the Adam optimizer, a popular choice for training neural networks due to its adaptive learning rate and momentum.\n",
        "- **Metrics**: Evaluates model performance during training using accuracy as the evaluation metric.\n",
        "- **Training**: The model is trained using the `fit()` function, providing the training and validation datasets (`train_ds` and `valid_ds`), along with the number of epochs.\n"
      ],
      "metadata": {
        "id": "M_zNrlAQkdw2"
      }
    },
    {
      "cell_type": "code",
      "source": [
        "epochs = 12\n",
        "\n",
        "# Compile the model\n",
        "model.compile(loss='binary_crossentropy', optimizer='adam', metrics=[\"accuracy\"])\n",
        "\n",
        "# Train the model\n",
        "hist = model.fit(train_ds, validation_data=valid_ds, epochs=epochs)"
      ],
      "metadata": {
        "colab": {
          "base_uri": "https://localhost:8080/"
        },
        "id": "titX10qhRBO-",
        "outputId": "971df38e-5676-43c7-c20d-b1a687686f0c"
      },
      "execution_count": null,
      "outputs": [
        {
          "output_type": "stream",
          "name": "stdout",
          "text": [
            "Epoch 1/12\n",
            "76/76 [==============================] - 95s 1s/step - loss: 9.0776 - accuracy: 0.9584 - val_loss: 1074.7885 - val_accuracy: 0.4391\n",
            "Epoch 2/12\n",
            "76/76 [==============================] - 94s 1s/step - loss: 2.6311e-29 - accuracy: 1.0000 - val_loss: 1756.3064 - val_accuracy: 0.4391\n",
            "Epoch 3/12\n",
            "76/76 [==============================] - 94s 1s/step - loss: 1.4336e-21 - accuracy: 1.0000 - val_loss: 2042.4738 - val_accuracy: 0.4391\n",
            "Epoch 4/12\n",
            "76/76 [==============================] - 91s 1s/step - loss: 1.3323 - accuracy: 0.9892 - val_loss: 2959.0898 - val_accuracy: 0.4391\n",
            "Epoch 5/12\n",
            "76/76 [==============================] - 91s 1s/step - loss: 0.1057 - accuracy: 0.9992 - val_loss: 2340.2415 - val_accuracy: 0.4391\n",
            "Epoch 6/12\n",
            "76/76 [==============================] - 89s 1s/step - loss: 0.0000e+00 - accuracy: 1.0000 - val_loss: 1806.0253 - val_accuracy: 0.4391\n",
            "Epoch 7/12\n",
            "76/76 [==============================] - 92s 1s/step - loss: 0.0000e+00 - accuracy: 1.0000 - val_loss: 1166.6602 - val_accuracy: 0.4508\n",
            "Epoch 8/12\n",
            "76/76 [==============================] - 89s 1s/step - loss: 0.0000e+00 - accuracy: 1.0000 - val_loss: 569.7763 - val_accuracy: 0.5275\n",
            "Epoch 9/12\n",
            "76/76 [==============================] - 91s 1s/step - loss: 0.0000e+00 - accuracy: 1.0000 - val_loss: 154.3126 - val_accuracy: 0.7312\n",
            "Epoch 10/12\n",
            "76/76 [==============================] - 90s 1s/step - loss: 0.0000e+00 - accuracy: 1.0000 - val_loss: 0.5418 - val_accuracy: 0.9933\n",
            "Epoch 11/12\n",
            "76/76 [==============================] - 89s 1s/step - loss: 0.0000e+00 - accuracy: 1.0000 - val_loss: 0.0000e+00 - val_accuracy: 1.0000\n",
            "Epoch 12/12\n",
            "76/76 [==============================] - 90s 1s/step - loss: 0.0000e+00 - accuracy: 1.0000 - val_loss: 0.0000e+00 - val_accuracy: 1.0000\n"
          ]
        }
      ]
    },
    {
      "cell_type": "markdown",
      "source": [
        "## Training and Validation Visualization\n",
        "\n",
        "The code below plots the training and validation accuracy as well as the training and validation loss over the epochs. These plots provide insights into the model's performance and its training dynamics.\n"
      ],
      "metadata": {
        "id": "o5SNbQ3Pko_r"
      }
    },
    {
      "cell_type": "code",
      "source": [
        "import matplotlib.pyplot as plt\n",
        "\n",
        "# Get training and validation accuracy\n",
        "train_accuracy = hist.history['accuracy']\n",
        "val_accuracy = hist.history['val_accuracy']\n",
        "\n",
        "# Get training and validation loss\n",
        "train_loss = hist.history['loss']\n",
        "val_loss = hist.history['val_loss']\n",
        "\n",
        "# Plot training and validation accuracy\n",
        "plt.plot(range(1, epochs+1), train_accuracy, label='Training Accuracy')\n",
        "plt.plot(range(1, epochs+1), val_accuracy, label='Validation Accuracy')\n",
        "plt.title('Training and Validation Accuracy')\n",
        "plt.xlabel('Epochs')\n",
        "plt.ylabel('Accuracy')\n",
        "plt.legend()\n",
        "plt.show()\n",
        "\n",
        "# Plot training and validation loss\n",
        "plt.plot(range(1, epochs+1), train_loss, label='Training Loss')\n",
        "plt.plot(range(1, epochs+1), val_loss, label='Validation Loss')\n",
        "plt.title('Training and Validation Loss')\n",
        "plt.xlabel('Epochs')\n",
        "plt.ylabel('Loss')\n",
        "plt.legend()\n",
        "plt.show()"
      ],
      "metadata": {
        "colab": {
          "base_uri": "https://localhost:8080/",
          "height": 927
        },
        "id": "H8YrxFPTRBSa",
        "outputId": "b7466333-6124-4672-e185-43906ac538c2"
      },
      "execution_count": null,
      "outputs": [
        {
          "output_type": "display_data",
          "data": {
            "text/plain": [
              "<Figure size 640x480 with 1 Axes>"
            ],
            "image/png": "[encoded data removed]"
          },
          "metadata": {}
        },
        {
          "output_type": "display_data",
          "data": {
            "text/plain": [
              "<Figure size 640x480 with 1 Axes>"
            ],
            "image/png": "[encoded data removed]"
          },
          "metadata": {}
        }
      ]
    },
    {
      "cell_type": "markdown",
      "source": [
        "## Prediction on Field Data\n",
        "\n",
        "The following code snippet loads a spectrogram image, preprocesses it, and makes predictions using the trained model. It then prints the predicted class.\n"
      ],
      "metadata": {
        "id": "btI529trkxwZ"
      }
    },
    {
      "cell_type": "code",
      "source": [
        "import cv2\n",
        "import numpy as np\n",
        "\n",
        "# Load and preprocess the spectrogram image\n",
        "image_path = \"/content/drive/MyDrive/spectrogram.png\"\n",
        "image = cv2.imread(image_path)\n",
        "image = cv2.resize(image, (656, 875))\n",
        "image = image / 255.0\n",
        "image = np.expand_dims(image, axis=0)\n",
        "\n",
        "# Make predictions using the trained model\n",
        "predictions = model.predict(image)\n",
        "\n",
        "# Get the predicted class\n",
        "predicted_class = class_names[np.argmax(predictions)]\n",
        "\n",
        "# Print the predicted class\n",
        "print(\"Predicted class:\", predicted_class)"
      ],
      "metadata": {
        "colab": {
          "base_uri": "https://localhost:8080/"
        },
        "id": "8Je_F4HSRRsS",
        "outputId": "2b410bcc-fd3c-4292-d711-adb0557b7cf5"
      },
      "execution_count": null,
      "outputs": [
        {
          "output_type": "stream",
          "name": "stdout",
          "text": [
            "1/1 [==============================] - 0s 28ms/step\n",
            "Predicted class: signal\n"
          ]
        }
      ]
    },
    {
      "cell_type": "code",
      "source": [
        "import cv2\n",
        "import numpy as np\n",
        "\n",
        "image_path = \"/content/drive/MyDrive/spectrogram1.png\"\n",
        "image = cv2.imread(image_path)\n",
        "image = cv2.resize(image, (656, 875))\n",
        "image = image / 255.0\n",
        "\n",
        "\n",
        "image = np.expand_dims(image, axis=0)\n",
        "\n",
        "predictions = model.predict(image)\n",
        "\n",
        "predicted_class = class_names[np.argmax(predictions)]\n",
        "\n",
        "print(\"Predicted class:\", predicted_class)\n"
      ],
      "metadata": {
        "colab": {
          "base_uri": "https://localhost:8080/"
        },
        "id": "Ng39LcubRgWR",
        "outputId": "0e0e349c-d108-4727-a616-cfb92f0ba86e"
      },
      "execution_count": null,
      "outputs": [
        {
          "output_type": "stream",
          "name": "stdout",
          "text": [
            "1/1 [==============================] - 0s 70ms/step\n",
            "Predicted class: signal\n"
          ]
        }
      ]
    },
    {
      "cell_type": "markdown",
      "source": [
        "## Saving the trained model"
      ],
      "metadata": {
        "id": "JXwWbtbilCxN"
      }
    },
    {
      "cell_type": "code",
      "source": [
        "# Save the trained model\n",
        "model.save(\"trained_model.h5\")"
      ],
      "metadata": {
        "colab": {
          "base_uri": "https://localhost:8080/"
        },
        "id": "Kcn6rnb2cezz",
        "outputId": "8244d897-b15f-4b11-bce2-2495cc64b6e3"
      },
      "execution_count": null,
      "outputs": [
        {
          "output_type": "stream",
          "name": "stderr",
          "text": [
            "/usr/local/lib/python3.10/dist-packages/keras/src/engine/training.py:3103: UserWarning:\n",
            "\n",
            "You are saving your model as an HDF5 file via `model.save()`. This file format is considered legacy. We recommend using instead the native Keras format, e.g. `model.save('my_model.keras')`.\n",
            "\n"
          ]
        }
      ]
    },
    {
      "cell_type": "markdown",
      "source": [
        "## Downloading the model"
      ],
      "metadata": {
        "id": "kpzu4lQflJRK"
      }
    },
    {
      "cell_type": "code",
      "source": [
        "from google.colab import files\n",
        "\n",
        "# Download the saved model file\n",
        "files.download(\"trained_model.h5\")\n"
      ],
      "metadata": {
        "colab": {
          "base_uri": "https://localhost:8080/",
          "height": 34
        },
        "id": "QKuJjXOAcxT8",
        "outputId": "307fbe1c-ceca-4404-cc23-25cd0df3db79"
      },
      "execution_count": null,
      "outputs": [
        {
          "output_type": "display_data",
          "data": {
            "text/plain": [
              "<IPython.core.display.Javascript object>"
            ],
            "application/javascript": [
              "\n",
              "    async function download(id, filename, size) {\n",
              "      if (!google.colab.kernel.accessAllowed) {\n",
              "        return;\n",
              "      }\n",
              "      const div = document.createElement('div');\n",
              "      const label = document.createElement('label');\n",
              "      label.textContent = `Downloading \"${filename}\": `;\n",
              "      div.appendChild(label);\n",
              "      const progress = document.createElement('progress');\n",
              "      progress.max = size;\n",
              "      div.appendChild(progress);\n",
              "      document.body.appendChild(div);\n",
              "\n",
              "      const buffers = [];\n",
              "      let downloaded = 0;\n",
              "\n",
              "      const channel = await google.colab.kernel.comms.open(id);\n",
              "      // Send a message to notify the kernel that we're ready.\n",
              "      channel.send({})\n",
              "\n",
              "      for await (const message of channel.messages) {\n",
              "        // Send a message to notify the kernel that we're ready.\n",
              "        channel.send({})\n",
              "        if (message.buffers) {\n",
              "          for (const buffer of message.buffers) {\n",
              "            buffers.push(buffer);\n",
              "            downloaded += buffer.byteLength;\n",
              "            progress.value = downloaded;\n",
              "          }\n",
              "        }\n",
              "      }\n",
              "      const blob = new Blob(buffers, {type: 'application/binary'});\n",
              "      const a = document.createElement('a');\n",
              "      a.href = window.URL.createObjectURL(blob);\n",
              "      a.download = filename;\n",
              "      div.appendChild(a);\n",
              "      a.click();\n",
              "      div.remove();\n",
              "    }\n",
              "  "
            ]
          },
          "metadata": {}
        },
        {
          "output_type": "display_data",
          "data": {
            "text/plain": [
              "<IPython.core.display.Javascript object>"
            ],
            "application/javascript": [
              "download(\"download_82460867-da64-4264-bfcd-d0bc46bd828c\", \"trained_model.h5\", 428144800)"
            ]
          },
          "metadata": {}
        }
      ]
    },
    {
      "cell_type": "code",
      "source": [],
      "metadata": {
        "id": "ckGea91ddClQ"
      },
      "execution_count": null,
      "outputs": []
    }
  ]
}